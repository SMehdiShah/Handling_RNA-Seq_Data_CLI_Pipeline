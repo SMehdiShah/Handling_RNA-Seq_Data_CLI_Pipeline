{
 "cells": [
  {
   "cell_type": "markdown",
   "id": "5db2433b-c382-47a4-8c52-57f8c94fc8ee",
   "metadata": {},
   "source": [
    " # Commands for CLI Environment"
   ]
  },
  {
   "cell_type": "markdown",
   "id": "ef75ccd4-8475-4685-9fda-239e474b818f",
   "metadata": {},
   "source": [
    "Make sure you are using a Linux enironment. These commands are specifically designed for the CLI environment. i.e. **Ubuntu**"
   ]
  },
  {
   "cell_type": "markdown",
   "id": "76cdf8ba-dbbd-468a-b57a-4389df8ab5ff",
   "metadata": {},
   "source": [
    "## Install Necessary Tools  \n",
    "Before running the pipeline, install all required dependencies.\n"
   ]
  },
  {
   "cell_type": "code",
   "execution_count": null,
   "id": "452c87ea-989e-4200-a786-dd3dfe06f08a",
   "metadata": {},
   "outputs": [],
   "source": [
    "# Update system packages\n",
    "!sudo apt update\n",
    "\n",
    "# Install required tools\n",
    "!sudo apt install sra-toolkit trimmomatic hisat2 samtools stringtie subread\n"
   ]
  },
  {
   "cell_type": "markdown",
   "id": "00e11be0-f4d6-41f0-a5e0-5c79897d8cec",
   "metadata": {},
   "source": [
    "## Download RNA-Seq Dataset\n",
    "Fetch sequencing data from SRA using its unique accession number.\n"
   ]
  },
  {
   "cell_type": "code",
   "execution_count": null,
   "id": "0349b4de-354a-40b7-bb7c-62ab04942483",
   "metadata": {},
   "outputs": [],
   "source": [
    "# Download RNA-Seq data\n",
    "!prefetch SRR30802871\n",
    "\n",
    "# Convert to FASTQ format and split paired-end reads\n",
    "!fastq-dump SRR30802871 --split-files\n",
    "\n",
    "#It will create two fastq files i.e. SRR30802871_1.fastq and SRR30802871_2.fastq"
   ]
  },
  {
   "cell_type": "markdown",
   "id": "ac6d62da-e3a2-4ed5-9557-568600e85fd3",
   "metadata": {},
   "source": [
    "## Trim Low-Quality Reads  \n",
    "Remove adapter sequences and low-quality bases using Trimmomatic.\n"
   ]
  },
  {
   "cell_type": "code",
   "execution_count": null,
   "id": "bd737889-b1e2-4777-8a14-49bf5227509f",
   "metadata": {},
   "outputs": [],
   "source": [
    "# Run Trimmomatic for quality trimming\n",
    "!java -jar trimmomatic-0.39.jar PE \\\n",
    "    SRR30802871_1.fastq SRR30802871_2.fastq \\\n",
    "    output_1-paired.fastq output_1-unpaired.fastq \\\n",
    "    output_2-paired.fastq output_2-unpaired.fastq \\\n",
    "    ILLUMINACLIP:TruSeq3-PE.fa:2:30:10:2:True LEADING:3 TRAILING:3 MINLEN:36\n"
   ]
  },
  {
   "cell_type": "markdown",
   "id": "da78430e-d65d-4a96-bf5b-4df4c2eabb4c",
   "metadata": {},
   "source": [
    "## Download and Prepare Reference Genome  \n",
    "Obtain the human reference genome and index it for alignment.\n"
   ]
  },
  {
   "cell_type": "code",
   "execution_count": null,
   "id": "202323c6-6643-4c41-96dd-edb551f33399",
   "metadata": {},
   "outputs": [],
   "source": [
    "# Download the reference genome. As I worked on Human so I will download Human Reference Genome.\n",
    "!wget https://ftp.ensembl.org/pub/release-113/fasta/homo_sapiens/dna/Homo_sapiens.GRCh38.dna.toplevel.fa.gz\n",
    "\n",
    "# Unzip the genome file\n",
    "!gunzip Homo_sapiens.GRCh38.dna.toplevel.fa.gz\n",
    "\n",
    "# Create genome index\n",
    "!hisat2-build -p 8 Homo_sapiens.GRCh38.dna.toplevel.fa index\n"
   ]
  },
  {
   "cell_type": "markdown",
   "id": "239576e6-3581-42d7-97bb-ff98c609a47b",
   "metadata": {},
   "source": [
    "## Align Reads to Reference Genome  \n",
    "Map the trimmed reads to the reference genome using HISAT2.\n"
   ]
  },
  {
   "cell_type": "code",
   "execution_count": null,
   "id": "8d7918f2-69ba-461b-8863-d49e9c72c7e2",
   "metadata": {},
   "outputs": [],
   "source": [
    "# Align reads and generate SAM file\n",
    "!hisat2 -x index -1 output_1-paired.fastq -2 output_2-paired.fastq -S aligned_output.sam -p 8"
   ]
  },
  {
   "cell_type": "markdown",
   "id": "6b6afc01-5ec3-4232-90c6-c5da9a6e7834",
   "metadata": {},
   "source": [
    "## Convert and Sort BAM Files  \n",
    "Convert the SAM file to BAM format and sort it for downstream analysis.\n"
   ]
  },
  {
   "cell_type": "code",
   "execution_count": null,
   "id": "af11a2ea-88aa-4a48-877e-0421f4829887",
   "metadata": {},
   "outputs": [],
   "source": [
    "# Convert SAM to BAM format\n",
    "!samtools view -bS aligned_output.sam > aligned_output.bam\n",
    "\n",
    "# Sort BAM file\n",
    "!samtools sort -o sorted_output.bam aligned_output.bam\n"
   ]
  },
  {
   "cell_type": "markdown",
   "id": "15125b25-da48-401b-8e3b-7405955435e0",
   "metadata": {},
   "source": [
    "## Download Annotation File  \n",
    "Obtain the gene annotation file (GTF format) for transcriptome assembly.\n"
   ]
  },
  {
   "cell_type": "code",
   "execution_count": null,
   "id": "736faa48-d404-4c2c-89ae-5fe7c64973f4",
   "metadata": {},
   "outputs": [],
   "source": [
    "# Download GTF annotation file. As I worked on Human so I will download Human Annotated Genome.\n",
    "!wget ftp://ftp.ensembl.org/pub/release-110/gtf/homo_sapiens/Homo_sapiens.GRCh38.110.gtf.gz\n",
    "\n",
    "# Unzip the annotation file\n",
    "!gunzip Homo_sapiens.GRCh38.110.gtf.gz\n"
   ]
  },
  {
   "cell_type": "markdown",
   "id": "4c853ac0-0aa9-46d8-a1a7-f7d764211281",
   "metadata": {},
   "source": [
    "## Assemble Transcripts  \n",
    "Use StringTie to assemble transcripts from aligned reads.\n"
   ]
  },
  {
   "cell_type": "code",
   "execution_count": null,
   "id": "0b20960b-3ebe-4fb6-b306-e18f37be3893",
   "metadata": {},
   "outputs": [],
   "source": [
    "# Run transcriptome assembly\n",
    "!stringtie sorted_output.bam -G Homo_sapiens.GRCh38.110.gtf -o assembled_transcripts.gtf -p 8\n"
   ]
  },
  {
   "cell_type": "markdown",
   "id": "d8ae173e-e91d-4727-a2d3-2d4c75d27a72",
   "metadata": {},
   "source": [
    "## Merge Transcript Assemblies  \n",
    "Combine multiple transcript assemblies for a unified dataset.\n"
   ]
  },
  {
   "cell_type": "code",
   "execution_count": null,
   "id": "83631041-0b7f-4c62-ac00-3d2556efe779",
   "metadata": {},
   "outputs": [],
   "source": [
    "# Merge assembled transcripts\n",
    "!stringtie --merge -G Homo_sapiens.GRCh38.110.gtf -o merged_transcripts.gtf assembled_transcripts.gtf\n"
   ]
  },
  {
   "cell_type": "markdown",
   "id": "97dcbc0f-6c61-4500-a33d-9882cca0c7e6",
   "metadata": {},
   "source": [
    "## Generate Gene Count Matrix  \n",
    "Use FeatureCounts to count the number of reads mapped to each gene.\n"
   ]
  },
  {
   "cell_type": "code",
   "execution_count": null,
   "id": "a331edda-39b0-457c-96fb-d6de2535ea04",
   "metadata": {},
   "outputs": [],
   "source": [
    "# Create count matrix for gene expression analysis\n",
    "!featureCounts -p -a merged_transcripts.gtf -o count_matrix.txt sorted_output.bam\n",
    "\n",
    "#At the end It will give us the text file of count matrix that contains the data of gene expression.\n"
   ]
  }
 ],
 "metadata": {
  "kernelspec": {
   "display_name": "Python 3 (ipykernel)",
   "language": "python",
   "name": "python3"
  },
  "language_info": {
   "codemirror_mode": {
    "name": "ipython",
    "version": 3
   },
   "file_extension": ".py",
   "mimetype": "text/x-python",
   "name": "python",
   "nbconvert_exporter": "python",
   "pygments_lexer": "ipython3",
   "version": "3.12.7"
  }
 },
 "nbformat": 4,
 "nbformat_minor": 5
}
